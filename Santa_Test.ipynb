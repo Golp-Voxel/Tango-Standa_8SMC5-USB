{
 "cells": [
  {
   "cell_type": "code",
   "execution_count": 2,
   "id": "19613b24",
   "metadata": {},
   "outputs": [],
   "source": [
    "# ref: https://files.xisupport.com/other_files/JupyterNotebook/Standa_8SMC5_USB_Python_tutorial.html\n",
    "import pathlib\n",
    "import os\n",
    "import time\n",
    "import libximc.highlevel as ximc"
   ]
  },
  {
   "cell_type": "markdown",
   "id": "f2958ce6",
   "metadata": {},
   "source": [
    "# Virtual device creation"
   ]
  },
  {
   "cell_type": "code",
   "execution_count": 3,
   "id": "df6551cf",
   "metadata": {},
   "outputs": [],
   "source": [
    "virtual_device_filename = \"virtual_motor_controller_1.bin\"\n",
    "virtual_device_file_path = os.path.join(pathlib.Path().cwd(), virtual_device_filename)"
   ]
  },
  {
   "cell_type": "markdown",
   "id": "f52f0569",
   "metadata": {},
   "source": [
    "# Real devices search"
   ]
  },
  {
   "cell_type": "code",
   "execution_count": 4,
   "id": "7e242a0c",
   "metadata": {},
   "outputs": [],
   "source": [
    "# Devices search\n",
    "devices = ximc.enumerate_devices(ximc.EnumerateFlags.ENUMERATE_NETWORK | ximc.EnumerateFlags.ENUMERATE_PROBE)\n",
    "\n",
    "if len(devices) == 0:\n",
    "    print(\"The real devices were not found. A virtual device will be used.\")\n",
    "else:\n",
    "    # Print real devices list\n",
    "    print(\"Found {} real device(s):\".format(len(devices)))\n",
    "    for device in devices:\n",
    "        print(\"  {}\".format(device))"
   ]
  },
  {
   "cell_type": "markdown",
   "id": "d003083e",
   "metadata": {},
   "source": [
    "# Device URI setup\n",
    "Each motor controller in the system should have a unique URI. Use such URI to connect to the specific device.\n",
    "\n",
    "There are several URI types:\n",
    "\n",
    "- xi-emu:///<abs_path_to_file> - for virtual devices.\n",
    "- xi-com:\\\\.\\COM<N> - for local devices connected via USB.\n",
    "- xi-tcp://<IP>:<Port> - for network devices with Ethernet support.\n",
    "- xi-net://<IP>/serial - for network devices connected through Standa 8Eth1 converter.\n",
    "    \n",
    "To use real device, change URI in the cell below. In case you don’t have any real devices, execute the cell without URI modification."
   ]
  },
  {
   "cell_type": "code",
   "execution_count": 4,
   "id": "2b9656ee",
   "metadata": {},
   "outputs": [],
   "source": [
    "device_uri = \"xi-emu:///{}\".format(virtual_device_file_path)\n",
    "# device_uri = r\"xi-com:\\\\.\\COM29\"\n",
    "# device_uri = \"xi-tcp://172.16.131.140:1820\"\n",
    "# device_uri = \"xi-net://192.168.1.120/abcd\""
   ]
  },
  {
   "cell_type": "markdown",
   "id": "efe57136",
   "metadata": {},
   "source": [
    "# First steps\n",
    "\n",
    "In the beginning you should create Axis instance using desired URI. As a result you will get an object (in our example it's called axis) through which you will be able to interact with the device.\n",
    "\n",
    "The connection is closed automatically when the garbage collector destructs Axis object. But of course you can close the connection manually via axis.close_device()."
   ]
  },
  {
   "cell_type": "code",
   "execution_count": 5,
   "id": "cc4a94f5",
   "metadata": {},
   "outputs": [],
   "source": [
    "axis = ximc.Axis(device_uri)\n",
    "# To open the connection, you must manually call `open_device()` method\n",
    "axis.open_device()"
   ]
  },
  {
   "cell_type": "code",
   "execution_count": 6,
   "id": "8e839358",
   "metadata": {},
   "outputs": [
    {
     "name": "stdout",
     "output_type": "stream",
     "text": [
      "Initial position: 0\n",
      "Start moving\n",
      "Moving...\n",
      "Moving...\n",
      "Moving...\n",
      "Stop moving\n",
      "Final position: 3045\n"
     ]
    }
   ],
   "source": [
    "# get_position method returns position_t object\n",
    "position = axis.get_position()\n",
    "print(\"Initial position:\", position.Position)\n",
    "\n",
    "print(\"Start moving\")\n",
    "axis.command_right()\n",
    "for i in range(3):\n",
    "    time.sleep(1)\n",
    "    print(\"Moving...\")\n",
    "\n",
    "print(\"Stop moving\")\n",
    "axis.command_stop()\n",
    "\n",
    "position = axis.get_position()\n",
    "print(\"Final position:\", position.Position)"
   ]
  },
  {
   "cell_type": "code",
   "execution_count": 7,
   "id": "b5a7b1ff",
   "metadata": {},
   "outputs": [
    {
     "name": "stdout",
     "output_type": "stream",
     "text": [
      "Device disconnected\n"
     ]
    }
   ],
   "source": [
    "axis.close_device()\n",
    "print(\"Device disconnected\")"
   ]
  },
  {
   "cell_type": "markdown",
   "id": "d68c691e",
   "metadata": {},
   "source": [
    "# Moving to a specific coordinates\n",
    "\n",
    "You can use command_move() and command_movr() methods to move axis to a specific absolute or relative position respectively.\n",
    "\n",
    "The following sequence of absolute and relative movements will be performed in the cell below."
   ]
  },
  {
   "cell_type": "code",
   "execution_count": 8,
   "id": "3bf0ddb1",
   "metadata": {},
   "outputs": [
    {
     "name": "stdout",
     "output_type": "stream",
     "text": [
      "Initial position: 0\n",
      "Move to position: 100\n",
      "Moving...\n",
      "Current position: 100\n",
      "Move to position: 50\n",
      "Moving...\n",
      "Current position: 50\n",
      "Perform a relative shift by 100\n",
      "So we are going to 50 + 100  = 150\n",
      "Moving...\n",
      "Current position: 150\n",
      "Perform a relative shift by -150\n",
      "So we are going to 150 + ( -150 ) = 0\n",
      "Moving...\n",
      "Current position: 0\n",
      "Done\n"
     ]
    }
   ],
   "source": [
    "axis.open_device()\n",
    "\n",
    "# ==== Set current position as zero ====\n",
    "axis.command_zero()\n",
    "\n",
    "# Object instances should be passed by reference\n",
    "position = axis.get_position()\n",
    "print(\"Initial position:\", position.Position)\n",
    "\n",
    "\n",
    "# ==== Move to the first absolute position (X = 100) ====\n",
    "next_position = 100\n",
    "print(\"Move to position:\", next_position)\n",
    "axis.command_move(next_position, 0)\n",
    "\n",
    "print(\"Moving...\")\n",
    "axis.command_wait_for_stop(100)\n",
    "\n",
    "position = axis.get_position()\n",
    "print(\"Current position:\", position.Position)\n",
    "\n",
    "\n",
    "# ==== Move to the second absolute position (X = 50) ====\n",
    "next_position = 50\n",
    "print(\"Move to position:\", next_position)\n",
    "axis.command_move(next_position, 0)\n",
    "\n",
    "print(\"Moving...\")\n",
    "axis.command_wait_for_stop(100)\n",
    "\n",
    "position = axis.get_position()\n",
    "print(\"Current position:\", position.Position)\n",
    "\n",
    "\n",
    "# ==== Perform a relative shift by 100 ====\n",
    "relative_shift = 100\n",
    "print(\"Perform a relative shift by\", relative_shift)\n",
    "print(\"So we are going to\", position.Position, \"+\", relative_shift, \" =\", position.Position + relative_shift)\n",
    "axis.command_movr(relative_shift, 0)\n",
    "\n",
    "print(\"Moving...\")\n",
    "axis.command_wait_for_stop(100)\n",
    "\n",
    "position = axis.get_position()\n",
    "print(\"Current position:\", position.Position)\n",
    "\n",
    "\n",
    "# ==== Perform a relative shift by -150 ====\n",
    "relative_shift = -150\n",
    "print(\"Perform a relative shift by\", relative_shift)\n",
    "print(\"So we are going to\", position.Position, \"+ (\", relative_shift, \") =\", position.Position + relative_shift)\n",
    "axis.command_movr(relative_shift, 0)\n",
    "\n",
    "print(\"Moving...\")\n",
    "axis.command_wait_for_stop(100)\n",
    "\n",
    "position = axis.get_position()\n",
    "print(\"Current position:\", position.Position)\n",
    "\n",
    "axis.close_device()\n",
    "print(\"Done\")"
   ]
  },
  {
   "cell_type": "markdown",
   "id": "86fa59e0",
   "metadata": {},
   "source": [
    "# Using user units\n",
    "By default all values (position, speed, acceleration…) are represented in motor steps and microsteps. You can use more convenient custom units such as millimeters, inches, degrees, radians by calling _calb postfixed methods.\n",
    "\n",
    "To use user units you should know conversion coefficient in units per step. In most cases you can find such coefficient in specification for your stage.\n",
    "\n",
    "For example [8MT193-100 Motorized Linear Stage](https://www.standa.lt/products/catalog/motorised_positioners?item=62&prod=motorized_linear_stage) has 2.5 µm / step resolution. In case you would like to use millimeters as user units, the conversion coefficient will be 0.0025 mm / step.\n",
    "\n"
   ]
  },
  {
   "cell_type": "code",
   "execution_count": 9,
   "id": "bd114ff3",
   "metadata": {},
   "outputs": [
    {
     "name": "stdout",
     "output_type": "stream",
     "text": [
      "Current position: 0.0 mm\n",
      "Move to position: 5.21 mm\n",
      "Moving...\n",
      "Current position: 5.210000038146973 mm\n",
      "Move to position: 0 mm\n",
      "Moving...\n",
      "Current position: 0.0 mm\n",
      "Done\n"
     ]
    }
   ],
   "source": [
    "axis.open_device()\n",
    "\n",
    "# ==== User unit setup ====\n",
    "# We will use mm as user units\n",
    "# In our example conversion coefficient will be 0.0025 mm / step.\n",
    "# Set conversion coefficient for your stage here if needed\n",
    "step_to_mm_conversion_coeff = 0.0025  # mm / step\n",
    "\n",
    "# Get information about microstep mode\n",
    "engine_settings = axis.get_engine_settings()\n",
    "\n",
    "# Now we can set calibration settings for our axis\n",
    "axis.set_calb(step_to_mm_conversion_coeff, engine_settings.MicrostepMode)\n",
    "\n",
    "# ==== Perform a shift by using user units (mm in our case) ====\n",
    "position_calb = axis.get_position_calb()\n",
    "print(\"Current position:\", position_calb.Position, \"mm\")\n",
    "\n",
    "next_position_in_mm = 5.21\n",
    "print(\"Move to position:\", next_position_in_mm, \"mm\")\n",
    "axis.command_move_calb(next_position_in_mm)\n",
    "\n",
    "print(\"Moving...\")\n",
    "axis.command_wait_for_stop(100)\n",
    "\n",
    "position_calb = axis.get_position_calb()\n",
    "print(\"Current position:\", position_calb.Position, \"mm\")\n",
    "\n",
    "next_position_in_mm = 0\n",
    "print(\"Move to position:\", next_position_in_mm, \"mm\")\n",
    "axis.command_move_calb(next_position_in_mm)\n",
    "\n",
    "print(\"Moving...\")\n",
    "axis.command_wait_for_stop(100)\n",
    "\n",
    "position_calb = axis.get_position_calb()\n",
    "print(\"Current position:\", position_calb.Position, \"mm\")\n",
    "\n",
    "axis.close_device()\n",
    "print(\"Done\")"
   ]
  }
 ],
 "metadata": {
  "kernelspec": {
   "display_name": "Python 3 (ipykernel)",
   "language": "python",
   "name": "python3"
  },
  "language_info": {
   "codemirror_mode": {
    "name": "ipython",
    "version": 3
   },
   "file_extension": ".py",
   "mimetype": "text/x-python",
   "name": "python",
   "nbconvert_exporter": "python",
   "pygments_lexer": "ipython3",
   "version": "3.9.13"
  }
 },
 "nbformat": 4,
 "nbformat_minor": 5
}
